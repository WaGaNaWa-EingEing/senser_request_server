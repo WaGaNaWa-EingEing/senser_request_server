{
 "cells": [
  {
   "cell_type": "code",
   "execution_count": 13,
   "metadata": {},
   "outputs": [
    {
     "name": "stdout",
     "output_type": "stream",
     "text": [
      "   0   1   2   3   4   5   6   7   8   9   ...  47  48  49  50  51  52  53  \\\n",
      "8   0   0   0   0   0   0   0   0   0   0  ...   0   0   0   0   0   0   0   \n",
      "\n",
      "   54  55  56  \n",
      "8   0   0   0  \n",
      "\n",
      "[1 rows x 57 columns]\n",
      "8    5100\n",
      "Name: Rom_num, dtype: int64\n",
      "[508]\n",
      "[508]\n"
     ]
    },
    {
     "data": {
      "text/plain": [
       "['testmodel.pkl']"
      ]
     },
     "execution_count": 13,
     "metadata": {},
     "output_type": "execute_result"
    }
   ],
   "source": [
    "# Import list\n",
    "\n",
    "import pandas as pd\n",
    "import numpy as np\n",
    "from sklearn.model_selection import train_test_split\n",
    "from sklearn.ensemble import RandomForestClassifier\n",
    "import joblib\n",
    "import pickle as pic\n",
    "\n",
    "# load data\n",
    "\n",
    "data = pd.read_json(\"testing_json.json\")\n",
    "\n",
    "macs = data.macs\n",
    "X = []\n",
    "\n",
    "for i in macs:\n",
    "    x=[]\n",
    "    for a in i:\n",
    "        x.append(a)\n",
    "    X.append(x)\n",
    "\n",
    "Y = data['Rom_num']\n",
    "\n",
    "X = pd.DataFrame(X)\n",
    "\n",
    "train_x, test_x, train_y, test_y = train_test_split(X,Y,test_size = 0.1,random_state = 42)\n",
    "\n",
    "clf = RandomForestClassifier(criterion='gini', n_estimators=40,random_state=0)\n",
    "clf.fit(train_x,train_y)\n",
    "\n",
    "saved_model = pic.dumps(clf);\n",
    "\n",
    "clf_from_pickle = pic.loads(saved_model);\n",
    "\n",
    "print(test_x)\n",
    "print(test_y)\n",
    "\n",
    "predict20 = clf.predict(test_x)\n",
    "print(predict20)\n",
    "\n",
    "predict20 = clf_from_pickle.predict(test_x)\n",
    "print(predict20)\n",
    "\n",
    "joblib.dump(clf, 'testmodel.pkl')\n",
    "\n"
   ]
  },
  {
   "cell_type": "code",
   "execution_count": 14,
   "metadata": {},
   "outputs": [
    {
     "name": "stdout",
     "output_type": "stream",
     "text": [
      "[508]\n"
     ]
    }
   ],
   "source": [
    "import pandas as pd\n",
    "import numpy as np\n",
    "from sklearn.model_selection import train_test_split\n",
    "from sklearn.ensemble import RandomForestClassifier\n",
    "import joblib\n",
    "import pickle as pic\n",
    "\n",
    "clf_from_joblib = joblib.load('testmodel.pkl')\n",
    "print(clf_from_joblib.predict(test_x))\n",
    "\n"
   ]
  },
  {
   "cell_type": "code",
   "execution_count": 15,
   "metadata": {},
   "outputs": [
    {
     "name": "stdout",
     "output_type": "stream",
     "text": [
      "[0, 0, 0, 0, 0, 0, 0, 0, 0, 0, 0, -92, -94, 0, -93, -81, -58, -70, -60, -55, -64, -65, -66, -74, 0, -75, -74, -79, 0, 0, 0, 0, 0, 0, 0, 0, 0, 0, 0, 0, 0, 0, 0, 0, 0, 0, 0, 0, 0, 0, 0, 0, 0, 0, 0, 0, 0]\n"
     ]
    },
    {
     "ename": "AttributeError",
     "evalue": "'list' object has no attribute 'reshape'",
     "output_type": "error",
     "traceback": [
      "\u001b[0;31m---------------------------------------------------------------------------\u001b[0m",
      "\u001b[0;31mAttributeError\u001b[0m                            Traceback (most recent call last)",
      "\u001b[1;32m/home/waganawa/문서/Python/Sensor_team/Random_forest.ipynb Cell 3'\u001b[0m in \u001b[0;36m<cell line: 11>\u001b[0;34m()\u001b[0m\n\u001b[1;32m      <a href='vscode-notebook-cell:/home/waganawa/%EB%AC%B8%EC%84%9C/Python/Sensor_team/Random_forest.ipynb#ch0000002?line=6'>7</a>\u001b[0m     X\u001b[39m.\u001b[39mappend(a)\n\u001b[1;32m      <a href='vscode-notebook-cell:/home/waganawa/%EB%AC%B8%EC%84%9C/Python/Sensor_team/Random_forest.ipynb#ch0000002?line=8'>9</a>\u001b[0m \u001b[39mprint\u001b[39m(X)\n\u001b[0;32m---> <a href='vscode-notebook-cell:/home/waganawa/%EB%AC%B8%EC%84%9C/Python/Sensor_team/Random_forest.ipynb#ch0000002?line=10'>11</a>\u001b[0m X\u001b[39m.\u001b[39;49mreshape(\u001b[39m-\u001b[39m\u001b[39m1\u001b[39m, \u001b[39m1\u001b[39m)\n\u001b[1;32m     <a href='vscode-notebook-cell:/home/waganawa/%EB%AC%B8%EC%84%9C/Python/Sensor_team/Random_forest.ipynb#ch0000002?line=12'>13</a>\u001b[0m \u001b[39mprint\u001b[39m(X)\n\u001b[1;32m     <a href='vscode-notebook-cell:/home/waganawa/%EB%AC%B8%EC%84%9C/Python/Sensor_team/Random_forest.ipynb#ch0000002?line=14'>15</a>\u001b[0m result \u001b[39m=\u001b[39m clf_from_joblib\u001b[39m.\u001b[39mpredict(X)\n",
      "\u001b[0;31mAttributeError\u001b[0m: 'list' object has no attribute 'reshape'"
     ]
    }
   ],
   "source": [
    "data = pd.read_json(\"test_input.json\")\n",
    "\n",
    "macs = data.macs\n",
    "X = []\n",
    "\n",
    "for a in macs:\n",
    "    X.append(a)\n",
    "\n",
    "print(X)\n",
    "\n",
    "X.reshape(-1, 1)\n",
    "\n",
    "print(X)\n",
    "\n",
    "result = clf_from_joblib.predict(X)\n",
    "\n",
    "print(result)"
   ]
  }
 ],
 "metadata": {
  "interpreter": {
   "hash": "e7370f93d1d0cde622a1f8e1c04877d8463912d04d973331ad4851f04de6915a"
  },
  "kernelspec": {
   "display_name": "Python 3.10.1 64-bit",
   "language": "python",
   "name": "python3"
  },
  "language_info": {
   "codemirror_mode": {
    "name": "ipython",
    "version": 3
   },
   "file_extension": ".py",
   "mimetype": "text/x-python",
   "name": "python",
   "nbconvert_exporter": "python",
   "pygments_lexer": "ipython3",
   "version": "3.10.4"
  },
  "orig_nbformat": 4
 },
 "nbformat": 4,
 "nbformat_minor": 2
}
