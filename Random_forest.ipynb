{
 "cells": [
  {
   "cell_type": "code",
   "execution_count": null,
   "metadata": {},
   "outputs": [],
   "source": [
    "# Import list\n",
    "\n",
    "import pandas as pd\n",
    "import numpy as np\n",
    "from sklearn.model_selection import train_test_split\n",
    "from sklearn.ensemble import RandomForestClassifier\n",
    "import joblib\n",
    "import pickle as pic\n",
    "\n",
    "# load data\n",
    "\n",
    "data = pd.read_json(\"4_Floor_1.json\")\n",
    "\n",
    "macs = data.macs\n",
    "X = []\n",
    "\n",
    "for i in macs:\n",
    "    x=[]\n",
    "    for a in i:\n",
    "        x.append(a)\n",
    "    X.append(x)\n",
    "\n",
    "Y = data['Rom_num']\n",
    "\n",
    "X = pd.DataFrame(X)\n",
    "\n",
    "clf = RandomForestClassifier(criterion='gini', n_estimators=40,random_state=0)\n",
    "clf.fit(X,Y)\n",
    "\n",
    "saved_model = pic.dumps(clf);\n",
    "\n",
    "clf_from_pickle = pic.loads(saved_model);\n",
    "\n",
    "joblib.dump(clf, '4_model1.pkl')\n",
    "\n"
   ]
  },
  {
   "cell_type": "code",
   "execution_count": null,
   "metadata": {},
   "outputs": [],
   "source": [
    "import pandas as pd\n",
    "import numpy as np\n",
    "from sklearn.model_selection import train_test_split\n",
    "from sklearn.ensemble import RandomForestClassifier\n",
    "import joblib\n",
    "import pickle as pic\n",
    "\n",
    "clf_from_joblib = joblib.load('testmodel.pkl')\n",
    "print(clf_from_joblib.predict(test_x))\n",
    "\n"
   ]
  },
  {
   "cell_type": "code",
   "execution_count": null,
   "metadata": {},
   "outputs": [],
   "source": [
    "data = pd.read_json(\"test_input.json\")\n",
    "\n",
    "macs = data.macs\n",
    "X = []\n",
    "\n",
    "for a in macs:\n",
    "    X.append(a)\n",
    "\n",
    "x = []\n",
    "x.append(X)\n",
    "\n",
    "X = pd.DataFrame(x)\n",
    "\n",
    "result = clf_from_joblib.predict(X)\n",
    "\n",
    "print(result)"
   ]
  }
 ],
 "metadata": {
  "interpreter": {
   "hash": "e7370f93d1d0cde622a1f8e1c04877d8463912d04d973331ad4851f04de6915a"
  },
  "kernelspec": {
   "display_name": "Python 3.10.1 64-bit",
   "language": "python",
   "name": "python3"
  },
  "language_info": {
   "codemirror_mode": {
    "name": "ipython",
    "version": 3
   },
   "file_extension": ".py",
   "mimetype": "text/x-python",
   "name": "python",
   "nbconvert_exporter": "python",
   "pygments_lexer": "ipython3",
   "version": "3.10.4"
  },
  "orig_nbformat": 4
 },
 "nbformat": 4,
 "nbformat_minor": 2
}
