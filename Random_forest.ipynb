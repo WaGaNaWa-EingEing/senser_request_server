{
 "cells": [
  {
   "cell_type": "code",
   "execution_count": 1,
   "metadata": {},
   "outputs": [
    {
     "data": {
      "text/plain": [
       "['2_model1.pkl']"
      ]
     },
     "execution_count": 1,
     "metadata": {},
     "output_type": "execute_result"
    }
   ],
   "source": [
    "# Import list\n",
    "\n",
    "import pandas as pd\n",
    "import numpy as np\n",
    "from sklearn.model_selection import train_test_split\n",
    "from sklearn.ensemble import RandomForestClassifier\n",
    "import joblib\n",
    "import pickle as pic\n",
    "\n",
    "# load data\n",
    "\n",
    "data = pd.read_json(\"2_Floor_1.json\")\n",
    "\n",
    "macs = data.macs\n",
    "X = []\n",
    "\n",
    "for i in macs:\n",
    "    x=[]\n",
    "    for a in i:\n",
    "        x.append(a)\n",
    "    X.append(x)\n",
    "\n",
    "Y = data['Rom_num']\n",
    "\n",
    "X = pd.DataFrame(X)\n",
    "\n",
    "clf = RandomForestClassifier(criterion='gini', n_estimators=40,random_state=0)\n",
    "clf.fit(X,Y)\n",
    "\n",
    "saved_model = pic.dumps(clf);\n",
    "\n",
    "clf_from_pickle = pic.loads(saved_model);\n",
    "\n",
    "joblib.dump(clf, '2_model1.pkl')\n",
    "\n"
   ]
  },
  {
   "cell_type": "code",
   "execution_count": 2,
   "metadata": {},
   "outputs": [
    {
     "ename": "NameError",
     "evalue": "name 'test_x' is not defined",
     "output_type": "error",
     "traceback": [
      "\u001b[0;31m---------------------------------------------------------------------------\u001b[0m",
      "\u001b[0;31mNameError\u001b[0m                                 Traceback (most recent call last)",
      "\u001b[1;32m/home/waganawa/문서/Python/Sensor_team/Random_forest.ipynb Cell 2'\u001b[0m in \u001b[0;36m<cell line: 9>\u001b[0;34m()\u001b[0m\n\u001b[1;32m      <a href='vscode-notebook-cell:/home/waganawa/%EB%AC%B8%EC%84%9C/Python/Sensor_team/Random_forest.ipynb#ch0000001?line=5'>6</a>\u001b[0m \u001b[39mimport\u001b[39;00m \u001b[39mpickle\u001b[39;00m \u001b[39mas\u001b[39;00m \u001b[39mpic\u001b[39;00m\n\u001b[1;32m      <a href='vscode-notebook-cell:/home/waganawa/%EB%AC%B8%EC%84%9C/Python/Sensor_team/Random_forest.ipynb#ch0000001?line=7'>8</a>\u001b[0m clf_from_joblib \u001b[39m=\u001b[39m joblib\u001b[39m.\u001b[39mload(\u001b[39m'\u001b[39m\u001b[39mtestmodel.pkl\u001b[39m\u001b[39m'\u001b[39m)\n\u001b[0;32m----> <a href='vscode-notebook-cell:/home/waganawa/%EB%AC%B8%EC%84%9C/Python/Sensor_team/Random_forest.ipynb#ch0000001?line=8'>9</a>\u001b[0m \u001b[39mprint\u001b[39m(clf_from_joblib\u001b[39m.\u001b[39mpredict(test_x))\n",
      "\u001b[0;31mNameError\u001b[0m: name 'test_x' is not defined"
     ]
    }
   ],
   "source": [
    "import pandas as pd\n",
    "import numpy as np\n",
    "from sklearn.model_selection import train_test_split\n",
    "from sklearn.ensemble import RandomForestClassifier\n",
    "import joblib\n",
    "import pickle as pic\n",
    "\n",
    "clf_from_joblib = joblib.load('testmodel.pkl')\n",
    "print(clf_from_joblib.predict(test_x))\n",
    "\n"
   ]
  },
  {
   "cell_type": "code",
   "execution_count": null,
   "metadata": {},
   "outputs": [],
   "source": [
    "data = pd.read_json(\"test_input.json\")\n",
    "\n",
    "macs = data.macs\n",
    "X = []\n",
    "\n",
    "for a in macs:\n",
    "    X.append(a)\n",
    "\n",
    "x = []\n",
    "x.append(X)\n",
    "\n",
    "X = pd.DataFrame(x)\n",
    "\n",
    "result = clf_from_joblib.predict(X)\n",
    "\n",
    "print(result)"
   ]
  }
 ],
 "metadata": {
  "interpreter": {
   "hash": "e7370f93d1d0cde622a1f8e1c04877d8463912d04d973331ad4851f04de6915a"
  },
  "kernelspec": {
   "display_name": "Python 3.10.1 64-bit",
   "language": "python",
   "name": "python3"
  },
  "language_info": {
   "codemirror_mode": {
    "name": "ipython",
    "version": 3
   },
   "file_extension": ".py",
   "mimetype": "text/x-python",
   "name": "python",
   "nbconvert_exporter": "python",
   "pygments_lexer": "ipython3",
   "version": "3.10.4"
  },
  "orig_nbformat": 4
 },
 "nbformat": 4,
 "nbformat_minor": 2
}
